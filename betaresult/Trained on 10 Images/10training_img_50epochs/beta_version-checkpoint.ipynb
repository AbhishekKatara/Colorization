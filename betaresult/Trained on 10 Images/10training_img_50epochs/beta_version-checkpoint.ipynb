{
 "cells": [
  {
   "cell_type": "code",
   "execution_count": 8,
   "metadata": {},
   "outputs": [],
   "source": [
    "from keras.layers import Conv2D, Conv2DTranspose, UpSampling2D\n",
    "from keras.layers import Activation, Dense, Dropout, Flatten, InputLayer\n",
    "from keras.layers.normalization import BatchNormalization\n",
    "from keras.callbacks import TensorBoard\n",
    "from keras.models import Sequential\n",
    "from keras.preprocessing.image import ImageDataGenerator, array_to_img, img_to_array, load_img\n",
    "from skimage.color import rgb2lab, lab2rgb, rgb2gray\n",
    "from skimage.io import imsave\n",
    "import numpy as np\n",
    "import os\n",
    "import random\n",
    "import tensorflow as tf"
   ]
  },
  {
   "cell_type": "code",
   "execution_count": 2,
   "metadata": {
    "collapsed": true
   },
   "outputs": [],
   "source": [
    "# Get images\n",
    "# Change to '/data/images/Train/' to use all the 10k images\n",
    "X = []\n",
    "for filename in os.listdir('../Train/'):\n",
    "    X.append(img_to_array(load_img('../Train/'+filename)))\n",
    "X = np.array(X, dtype=float)\n",
    "\n",
    "# Set up train and test data\n",
    "split = int(0.95*len(X))\n",
    "Xtrain = X[:split]\n",
    "Xtrain = 1.0/255*Xtrain"
   ]
  },
  {
   "cell_type": "code",
   "execution_count": 3,
   "metadata": {
    "collapsed": true
   },
   "outputs": [],
   "source": [
    "model = Sequential()\n",
    "model.add(InputLayer(input_shape=(256, 256, 1)))\n",
    "model.add(Conv2D(64, (3, 3), activation='relu', padding='same'))\n",
    "model.add(Conv2D(64, (3, 3), activation='relu', padding='same', strides=2))\n",
    "model.add(Conv2D(128, (3, 3), activation='relu', padding='same'))\n",
    "model.add(Conv2D(128, (3, 3), activation='relu', padding='same', strides=2))\n",
    "model.add(Conv2D(256, (3, 3), activation='relu', padding='same'))\n",
    "model.add(Conv2D(256, (3, 3), activation='relu', padding='same', strides=2))\n",
    "model.add(Conv2D(512, (3, 3), activation='relu', padding='same'))\n",
    "model.add(Conv2D(256, (3, 3), activation='relu', padding='same'))\n",
    "model.add(Conv2D(128, (3, 3), activation='relu', padding='same'))\n",
    "model.add(UpSampling2D((2, 2)))\n",
    "model.add(Conv2D(64, (3, 3), activation='relu', padding='same'))\n",
    "model.add(UpSampling2D((2, 2)))\n",
    "model.add(Conv2D(32, (3, 3), activation='relu', padding='same'))\n",
    "model.add(Conv2D(2, (3, 3), activation='tanh', padding='same'))\n",
    "model.add(UpSampling2D((2, 2)))\n",
    "model.compile(optimizer='rmsprop', loss='mse')"
   ]
  },
  {
   "cell_type": "code",
   "execution_count": 4,
   "metadata": {},
   "outputs": [
    {
     "name": "stdout",
     "output_type": "stream",
     "text": [
      "Epoch 1/50\n",
      "1/1 [==============================] - 13s - loss: 0.1234\n",
      "Epoch 2/50\n",
      "1/1 [==============================] - 10s - loss: 1.0048\n",
      "Epoch 3/50\n",
      "1/1 [==============================] - 10s - loss: 0.9292\n",
      "Epoch 4/50\n",
      "1/1 [==============================] - 10s - loss: 0.9264\n",
      "Epoch 5/50\n",
      "1/1 [==============================] - 10s - loss: 0.9245\n",
      "Epoch 6/50\n",
      "1/1 [==============================] - 10s - loss: 0.9277\n",
      "Epoch 7/50\n",
      "1/1 [==============================] - 10s - loss: 0.9236\n",
      "Epoch 8/50\n",
      "1/1 [==============================] - 10s - loss: 0.9240\n",
      "Epoch 9/50\n",
      "1/1 [==============================] - 10s - loss: 0.9291\n",
      "Epoch 10/50\n",
      "1/1 [==============================] - 10s - loss: 0.9253\n",
      "Epoch 11/50\n",
      "1/1 [==============================] - 10s - loss: 0.9257\n",
      "Epoch 12/50\n",
      "1/1 [==============================] - 10s - loss: 0.9261\n",
      "Epoch 13/50\n",
      "1/1 [==============================] - 10s - loss: 0.9058\n",
      "Epoch 14/50\n",
      "1/1 [==============================] - 10s - loss: 0.8294\n",
      "Epoch 15/50\n",
      "1/1 [==============================] - 10s - loss: 0.7918\n",
      "Epoch 16/50\n",
      "1/1 [==============================] - 10s - loss: 0.0074\n",
      "Epoch 17/50\n",
      "1/1 [==============================] - 10s - loss: 0.0614\n",
      "Epoch 18/50\n",
      "1/1 [==============================] - 10s - loss: 0.0077\n",
      "Epoch 19/50\n",
      "1/1 [==============================] - 10s - loss: 0.0069\n",
      "Epoch 20/50\n",
      "1/1 [==============================] - 10s - loss: 0.0067\n",
      "Epoch 21/50\n",
      "1/1 [==============================] - 10s - loss: 0.0064\n",
      "Epoch 22/50\n",
      "1/1 [==============================] - 10s - loss: 0.0061\n",
      "Epoch 23/50\n",
      "1/1 [==============================] - 10s - loss: 0.0066\n",
      "Epoch 24/50\n",
      "1/1 [==============================] - 10s - loss: 0.0061\n",
      "Epoch 25/50\n",
      "1/1 [==============================] - 10s - loss: 0.0060\n",
      "Epoch 26/50\n",
      "1/1 [==============================] - 10s - loss: 0.0056\n",
      "Epoch 27/50\n",
      "1/1 [==============================] - 10s - loss: 0.0058\n",
      "Epoch 28/50\n",
      "1/1 [==============================] - 10s - loss: 0.0052\n",
      "Epoch 29/50\n",
      "1/1 [==============================] - 10s - loss: 0.0052\n",
      "Epoch 30/50\n",
      "1/1 [==============================] - 10s - loss: 0.0052\n",
      "Epoch 31/50\n",
      "1/1 [==============================] - 10s - loss: 0.0056\n",
      "Epoch 32/50\n",
      "1/1 [==============================] - 10s - loss: 0.0054\n",
      "Epoch 33/50\n",
      "1/1 [==============================] - 10s - loss: 0.0053\n",
      "Epoch 34/50\n",
      "1/1 [==============================] - 10s - loss: 0.0054\n",
      "Epoch 35/50\n",
      "1/1 [==============================] - 10s - loss: 0.0053\n",
      "Epoch 36/50\n",
      "1/1 [==============================] - 10s - loss: 0.0047\n",
      "Epoch 37/50\n",
      "1/1 [==============================] - 10s - loss: 0.0050\n",
      "Epoch 38/50\n",
      "1/1 [==============================] - 10s - loss: 0.0052\n",
      "Epoch 39/50\n",
      "1/1 [==============================] - 10s - loss: 0.0060\n",
      "Epoch 40/50\n",
      "1/1 [==============================] - 10s - loss: 0.0065\n",
      "Epoch 41/50\n",
      "1/1 [==============================] - 10s - loss: 0.0060\n",
      "Epoch 42/50\n",
      "1/1 [==============================] - 10s - loss: 0.0060\n",
      "Epoch 43/50\n",
      "1/1 [==============================] - 10s - loss: 0.0053\n",
      "Epoch 44/50\n",
      "1/1 [==============================] - 10s - loss: 0.0050\n",
      "Epoch 45/50\n",
      "1/1 [==============================] - 10s - loss: 0.0052\n",
      "Epoch 46/50\n",
      "1/1 [==============================] - 10s - loss: 0.0049\n",
      "Epoch 47/50\n",
      "1/1 [==============================] - 10s - loss: 0.0049\n",
      "Epoch 48/50\n",
      "1/1 [==============================] - 10s - loss: 0.0057\n",
      "Epoch 49/50\n",
      "1/1 [==============================] - 10s - loss: 0.0058\n",
      "Epoch 50/50\n",
      "1/1 [==============================] - 10s - loss: 0.0050\n"
     ]
    },
    {
     "data": {
      "text/plain": [
       "<keras.callbacks.History at 0x7f8cfd926be0>"
      ]
     },
     "execution_count": 4,
     "metadata": {},
     "output_type": "execute_result"
    }
   ],
   "source": [
    "# Image transformer\n",
    "datagen = ImageDataGenerator(\n",
    "        shear_range=0.2,\n",
    "        zoom_range=0.2,\n",
    "        rotation_range=20,\n",
    "        horizontal_flip=True)\n",
    "\n",
    "# Generate training data\n",
    "batch_size = 10\n",
    "def image_a_b_gen(batch_size):\n",
    "    for batch in datagen.flow(Xtrain, batch_size=batch_size):\n",
    "        lab_batch = rgb2lab(batch)\n",
    "        X_batch = lab_batch[:,:,:,0]\n",
    "        Y_batch = lab_batch[:,:,:,1:] / 128\n",
    "        yield (X_batch.reshape(X_batch.shape+(1,)), Y_batch)\n",
    "\n",
    "# Train model      \n",
    "tensorboard = TensorBoard(log_dir=\"/output/beta_run\")\n",
    "model.fit_generator(image_a_b_gen(batch_size), callbacks=[tensorboard], epochs=50, steps_per_epoch=1)"
   ]
  },
  {
   "cell_type": "code",
   "execution_count": 5,
   "metadata": {
    "collapsed": true
   },
   "outputs": [],
   "source": [
    "# Save model\n",
    "model_json = model.to_json()\n",
    "with open(\"model.json\", \"w\") as json_file:\n",
    "    json_file.write(model_json)\n",
    "model.save_weights(\"model.h5\")"
   ]
  },
  {
   "cell_type": "code",
   "execution_count": 6,
   "metadata": {},
   "outputs": [
    {
     "name": "stdout",
     "output_type": "stream",
     "text": [
      "1/1 [==============================] - 0s\n",
      "0.0102317621931\n"
     ]
    }
   ],
   "source": [
    "# Test images\n",
    "Xtest = rgb2lab(1.0/255*X[split:])[:,:,:,0]\n",
    "Xtest = Xtest.reshape(Xtest.shape+(1,))\n",
    "Ytest = rgb2lab(1.0/255*X[split:])[:,:,:,1:]\n",
    "Ytest = Ytest / 128\n",
    "print(model.evaluate(Xtest, Ytest, batch_size=batch_size))"
   ]
  },
  {
   "cell_type": "code",
   "execution_count": 7,
   "metadata": {},
   "outputs": [
    {
     "name": "stderr",
     "output_type": "stream",
     "text": [
      "/usr/local/lib/python3.5/site-packages/skimage/util/dtype.py:122: UserWarning: Possible precision loss when converting from float64 to uint8\n",
      "  .format(dtypeobj_in, dtypeobj_out))\n"
     ]
    }
   ],
   "source": [
    "# Change to '/data/images/Test/' to use all the 500 images\n",
    "color_me = []\n",
    "for filename in os.listdir('../Test/'):\n",
    "\tcolor_me.append(img_to_array(load_img('../Test/'+filename)))\n",
    "color_me = np.array(color_me, dtype=float)\n",
    "color_me = rgb2lab(1.0/255*color_me)[:,:,:,0]\n",
    "color_me = color_me.reshape(color_me.shape+(1,))\n",
    "\n",
    "# Test model\n",
    "output = model.predict(color_me)\n",
    "output = output * 128\n",
    "\n",
    "# Output colorizations\n",
    "for i in range(len(output)):\n",
    "\tcur = np.zeros((256, 256, 3))\n",
    "\tcur[:,:,0] = color_me[i][:,:,0]\n",
    "\tcur[:,:,1:] = output[i]\n",
    "\timsave(\"result/img_\"+str(i)+\".png\", lab2rgb(cur))"
   ]
  },
  {
   "cell_type": "code",
   "execution_count": null,
   "metadata": {
    "collapsed": true
   },
   "outputs": [],
   "source": []
  }
 ],
 "metadata": {
  "kernelspec": {
   "display_name": "Python 3",
   "language": "python",
   "name": "python3"
  },
  "language_info": {
   "codemirror_mode": {
    "name": "ipython",
    "version": 3
   },
   "file_extension": ".py",
   "mimetype": "text/x-python",
   "name": "python",
   "nbconvert_exporter": "python",
   "pygments_lexer": "ipython3",
   "version": "3.5.3"
  }
 },
 "nbformat": 4,
 "nbformat_minor": 2
}
